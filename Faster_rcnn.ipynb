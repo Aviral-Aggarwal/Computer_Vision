{
 "cells": [
  {
   "cell_type": "code",
   "execution_count": 2,
   "metadata": {},
   "outputs": [],
   "source": [
    "import torch\n",
    "import numpy as np\n",
    "import torchvision\n",
    "import torch.nn as nn"
   ]
  },
  {
   "cell_type": "code",
   "execution_count": 3,
   "metadata": {},
   "outputs": [],
   "source": [
    "image = torch.zeros((1, 3, 800, 800)).float()\n",
    "\n",
    "bbox = torch.FloatTensor([[20, 30, 400, 500], [300, 400, 500, 600]])\n",
    "# [y1, x1, y2, x2] format\n",
    "labels = torch.LongTensor([6, 8])  # 0 represents background\n",
    "sub_sample = 16"
   ]
  },
  {
   "cell_type": "code",
   "execution_count": 4,
   "metadata": {},
   "outputs": [],
   "source": [
    "#Using a dummy image to pick enough layers to get required dimension\n",
    "dummy_img = torch.zeros((1, 3, 800, 800)).float()\n",
    "\n",
    "#Using pretrained VGG16-Net as the head network for feature extraction\n",
    "model = torchvision.models.vgg16(pretrained=True)\n",
    "fe = list(model.features)"
   ]
  },
  {
   "cell_type": "code",
   "execution_count": 7,
   "metadata": {},
   "outputs": [
    {
     "name": "stdout",
     "output_type": "stream",
     "text": [
      "30\n",
      "512\n",
      "torch.Size([1, 512, 50, 50])\n"
     ]
    }
   ],
   "source": [
    "#Using the dummy image to pick out enough layers to reduce the image dimensions\n",
    "#to w/16 and h/16 as per the original paper\n",
    "req_features = []\n",
    "k = dummy_img.clone()\n",
    "out_channels = None\n",
    "for i in fe:\n",
    "    k = i(k)\n",
    "    if k.size()[2] < 800 // 16:\n",
    "        break\n",
    "    req_features.append(i)\n",
    "    out_channels = k.size()[1]\n",
    "\n",
    "print(len(req_features))\n",
    "print(out_channels)\n",
    "\n",
    "faster_rcnn_fe_extractor = nn.Sequential(*req_features)\n",
    "out_map = faster_rcnn_fe_extractor(image)\n",
    "print(out_map.size())\n",
    "\n",
    "#the map is as per the dimensions required"
   ]
  },
  {
   "cell_type": "code",
   "execution_count": 10,
   "metadata": {},
   "outputs": [
    {
     "name": "stdout",
     "output_type": "stream",
     "text": [
      "[[0. 0. 0. 0.]\n",
      " [0. 0. 0. 0.]\n",
      " [0. 0. 0. 0.]\n",
      " [0. 0. 0. 0.]\n",
      " [0. 0. 0. 0.]\n",
      " [0. 0. 0. 0.]\n",
      " [0. 0. 0. 0.]\n",
      " [0. 0. 0. 0.]\n",
      " [0. 0. 0. 0.]]\n"
     ]
    }
   ],
   "source": [
    "#Sub sample of 16 used since the input img was reduced by 16th dimension\n",
    "#Every pixel in the output feature map corresponds to a 16x16 region in the input image\n",
    "ratios = [0.5, 1, 2]\n",
    "anchor_scales = [8, 16, 32]\n",
    "\n",
    "anchor_base = np.zeros((len(ratios) * len(anchor_scales), 4), dtype=np.float32)\n",
    "\n",
    "print(anchor_base)\n",
    "# test bounding boxes creation from single anchor\n",
    "center_y = 50.\n",
    "center_x = 120."
   ]
  },
  {
   "cell_type": "code",
   "execution_count": 11,
   "metadata": {},
   "outputs": [
    {
     "name": "stdout",
     "output_type": "stream",
     "text": [
      "ratio 0.5:\n",
      "\tscale 8: [  4.745166  29.490332  95.25484  210.50967 ]\n",
      "\tscale 16: [-40.509666 -61.019337 140.50967  301.01935 ]\n",
      "\tscale 32: [-131.01933 -242.03867  231.01933  482.03867]\n",
      "ratio 1:\n",
      "\tscale 8: [-14.  56. 114. 184.]\n",
      "\tscale 16: [-78.  -8. 178. 248.]\n",
      "\tscale 32: [-206. -136.  306.  376.]\n",
      "ratio 2:\n",
      "\tscale 8: [-40.509666  74.74516  140.50967  165.25484 ]\n",
      "\tscale 16: [-131.01933    29.490332  231.01933   210.50967 ]\n",
      "\tscale 32: [-312.03867   -61.019337  412.03867   301.01935 ]\n"
     ]
    }
   ],
   "source": [
    "#Generate the four coordinates of the 9 anchor boxes for one pixel in feature map\n",
    "#This is just a check to see if its working, not used anywhere finally\n",
    "for i in range(len(ratios)):\n",
    "    print(f'ratio {ratios[i]}:')\n",
    "    for j in range(len(anchor_scales)):\n",
    "        h = sub_sample * anchor_scales[j] * np.sqrt(ratios[i])\n",
    "        w = sub_sample * anchor_scales[j] * np.sqrt(1. / ratios[i])\n",
    "\n",
    "        index = i * len(anchor_scales) + j\n",
    "\n",
    "        anchor_base[index, 0] = center_y - h / 2.\n",
    "        anchor_base[index, 1] = center_x - w / 2.\n",
    "        anchor_base[index, 2] = center_y + h / 2.\n",
    "        anchor_base[index, 3] = center_x + w / 2.\n",
    "        print(f'\\tscale {anchor_scales[j]}: {anchor_base[index]}')"
   ]
  },
  {
   "cell_type": "code",
   "execution_count": 12,
   "metadata": {},
   "outputs": [],
   "source": [
    "#generating the centers for all of the pixels\n",
    "fe_size = 800 // 16\n",
    "center_x = np.arange(16, (fe_size + 1) * 16, 16)\n",
    "center_y = np.arange(16, (fe_size + 1) * 16, 16)\n",
    "\n",
    "centers = np.zeros((len(center_x) * len(center_x), 2))\n",
    "\n",
    "index = 0\n",
    "for x in range(len(center_x)):\n",
    "    for y in range(len(center_y)):\n",
    "        centers[index, 0] = center_y[y] - 8\n",
    "        centers[index, 1] = center_x[x] - 8\n",
    "        index += 1\n",
    "\n",
    "anchors = np.zeros((len(centers) * 9, 4), dtype=np.float32)"
   ]
  },
  {
   "cell_type": "code",
   "execution_count": 13,
   "metadata": {},
   "outputs": [
    {
     "name": "stdout",
     "output_type": "stream",
     "text": [
      "(22500, 4)\n",
      "[[ -37.254833  -82.50967    53.254833   98.50967 ]\n",
      " [ -82.50967  -173.01933    98.50967   189.01933 ]\n",
      " [-173.01933  -354.03867   189.01933   370.03867 ]\n",
      " ...\n",
      " [ 701.49036   746.7452    882.50964   837.2548  ]\n",
      " [ 610.98065   701.49036   973.01935   882.50964 ]\n",
      " [ 429.96133   610.98065  1154.0387    973.01935 ]]\n"
     ]
    }
   ],
   "source": [
    "index = 0\n",
    "for c in centers:\n",
    "    ctr_y, ctr_x = c\n",
    "    for i in range(len(ratios)):\n",
    "        for j in range(len(anchor_scales)):\n",
    "            h = sub_sample * anchor_scales[j] * np.sqrt(ratios[i])\n",
    "            w = sub_sample * anchor_scales[j] * np.sqrt(1. / ratios[i])\n",
    "\n",
    "            anchors[index, 0] = ctr_y - h / 2.\n",
    "            anchors[index, 1] = ctr_x - w / 2.\n",
    "            anchors[index, 2] = ctr_y + h / 2.\n",
    "            anchors[index, 3] = ctr_x + w / 2.\n",
    "            index += 1\n",
    "\n",
    "print(anchors.shape)\n",
    "print(anchors)"
   ]
  },
  {
   "cell_type": "code",
   "execution_count": 15,
   "metadata": {},
   "outputs": [
    {
     "name": "stdout",
     "output_type": "stream",
     "text": [
      "(8940,)\n",
      "(8940,)\n"
     ]
    }
   ],
   "source": [
    "#First finding the index of all the valid anchor boxes, ie, the ones whose coordinates are inside the image\n",
    "inside_indexes = np.where(\n",
    "    (anchors[:, 0] >= 0) &\n",
    "    (anchors[:, 1] >= 0) &\n",
    "    (anchors[:, 2] <= 800) &\n",
    "    (anchors[:, 3] <= 800)\n",
    ")[0]\n",
    "print(inside_indexes.shape)\n",
    "n_box = len(inside_indexes)\n",
    "\n",
    "#initially all the boxes are taken to be inconsequential\n",
    "bbox_labels = np.empty((n_box,), dtype=np.int32)\n",
    "bbox_labels.fill(-1)\n",
    "print(bbox_labels.shape)"
   ]
  },
  {
   "cell_type": "code",
   "execution_count": 16,
   "metadata": {},
   "outputs": [
    {
     "name": "stdout",
     "output_type": "stream",
     "text": [
      "(8940, 4)\n"
     ]
    }
   ],
   "source": [
    "#pick out the anchor coordinates corresponding to the correct boxes\n",
    "valid_anchor_boxes = anchors[inside_indexes]\n",
    "print(valid_anchor_boxes.shape)"
   ]
  },
  {
   "cell_type": "code",
   "execution_count": 17,
   "metadata": {},
   "outputs": [
    {
     "name": "stdout",
     "output_type": "stream",
     "text": [
      "(8940, 2)\n"
     ]
    }
   ],
   "source": [
    "ious = np.empty((len(valid_anchor_boxes), 2), dtype=np.float32)\n",
    "ious.fill(0)\n",
    "\n",
    "for num1, i in enumerate(valid_anchor_boxes):\n",
    "    ya1, xa1, ya2, xa2 = i\n",
    "    anchor_area = (ya2 - ya1) * (xa2 - xa1)\n",
    "    for num2, j in enumerate(bbox):\n",
    "        yb1, xb1, yb2, xb2 = j\n",
    "        box_area = (yb2 - yb1) * (xb2 - xb1)\n",
    "\n",
    "        inter_x1 = max([xb1, xa1])\n",
    "        inter_y1 = max([yb1, ya1])\n",
    "        inter_x2 = min([xb2, xa2])\n",
    "        inter_y2 = min([yb2, ya2])\n",
    "\n",
    "        if (inter_x1 < inter_x2) and (inter_y1 < inter_y2):\n",
    "            iter_area = (inter_y2 - inter_y1) * (inter_x2 - inter_x1)\n",
    "            iou = iter_area / (anchor_area + box_area - iter_area)\n",
    "        else:\n",
    "            iou = 0.\n",
    "\n",
    "        ious[num1, num2] = iou\n",
    "print(ious.shape)"
   ]
  },
  {
   "cell_type": "code",
   "execution_count": 13,
   "metadata": {},
   "outputs": [],
   "source": [
    "#Assigning labels to the objects according to the paper guideline\n",
    "#1. The anchors which have the highest IoU overlap with the ground truth box\n",
    "#2. Acnchors with an IoU overlap higher than the positive threshold\n",
    "\n",
    "#3. Negative label to the anchors with IoU lesser than the negative threshold\n",
    "#4. Ignore the anchors which are neither positive nor negative"
   ]
  },
  {
   "cell_type": "code",
   "execution_count": 19,
   "metadata": {},
   "outputs": [
    {
     "name": "stdout",
     "output_type": "stream",
     "text": [
      "[2262 5620]\n",
      "[0.68130493 0.61035156]\n",
      "(8940,)\n",
      "[0 0 0 ... 0 0 0]\n",
      "[0.06811669 0.07083762 0.07083762 ... 0.         0.         0.        ]\n",
      "[2262 2508 5620 5628 5636 5644 5866 5874 5882 5890 6112 6120 6128 6136\n",
      " 6358 6366 6374 6382]\n"
     ]
    }
   ],
   "source": [
    "#This is for the anchors with the highest IoU overlap with the ground truth box\n",
    "gt_argmax_ious = ious.argmax(axis=0)\n",
    "print(gt_argmax_ious)\n",
    "\n",
    "gt_max_ious = ious[gt_argmax_ious, np.arange(ious.shape[1])]\n",
    "print(gt_max_ious)\n",
    "\n",
    "#This in a way the reverse of the above condition, \n",
    "#it tells which ground truth box has the highest IoU overlap with an anchor box\n",
    "argmax_ious = ious.argmax(axis=1)\n",
    "print(argmax_ious.shape)\n",
    "print(argmax_ious)\n",
    "\n",
    "max_ious = ious[np.arange(len(ious)), argmax_ious]\n",
    "print(max_ious)\n",
    "\n",
    "#Finding the IoU with this max_ious values\n",
    "gt_argmax_ious = np.where(ious == gt_max_ious)[0]\n",
    "print(gt_argmax_ious)"
   ]
  },
  {
   "cell_type": "code",
   "execution_count": 20,
   "metadata": {},
   "outputs": [],
   "source": [
    "#Condition 2 and 3, IoU(s) above and below the thresholds\n",
    "pos_iou_threshold = 0.7\n",
    "neg_iou_threshold = 0.3\n",
    "\n",
    "bbox_labels[max_ious < neg_iou_threshold] = 0\n",
    "bbox_labels[max_ious >= pos_iou_threshold] = 1\n",
    "\n",
    "\n",
    "#Condition 1, assigning positive labels to all IoU with max overlap with the ground truth box\n",
    "bbox_labels[gt_argmax_ious] = 1"
   ]
  },
  {
   "cell_type": "code",
   "execution_count": null,
   "metadata": {},
   "outputs": [],
   "source": []
  },
  {
   "cell_type": "code",
   "execution_count": 21,
   "metadata": {},
   "outputs": [
    {
     "name": "stdout",
     "output_type": "stream",
     "text": [
      "7690 238\n"
     ]
    }
   ],
   "source": [
    "#The paper says that each mini batch arises from a single image with many positive and negative samples \n",
    "#but has a bias towards negative samples, due to their higher numbers\n",
    "#To sort this problem, we have to randomly sample 256 anchors in the image to compute the loss function\n",
    "#and keep the positive and negavite samples in a 1:1 ratio\n",
    "\n",
    "pos_ratio = 0.5\n",
    "n_sample = 256\n",
    "n_pos = pos_ratio * n_sample\n",
    "\n",
    "pos_index = np.where(bbox_labels == 1)[0]\n",
    "\n",
    "#If there are enough positive labels, then we sample n_positive and ignore the remaining ones\n",
    "if len(pos_index) > n_pos:\n",
    "    disable_index = np.random.choice(pos_index, size=(len(pos_index) - n_pos), replace=False)\n",
    "    bbox_labels[disable_index] = -1\n",
    "    \n",
    "n_neg = n_sample - np.sum(bbox_labels == 1)\n",
    "neg_index = np.where(bbox_labels == 0)[0]\n",
    "print(len(neg_index), n_neg)\n",
    "#Ignoring the extra negative boxes\n",
    "if len(neg_index) > n_neg:\n",
    "    disable_index = np.random.choice(neg_index, size=(len(neg_index) - n_neg), replace=False)\n",
    "    bbox_labels[disable_index] = -1"
   ]
  },
  {
   "cell_type": "code",
   "execution_count": 22,
   "metadata": {},
   "outputs": [
    {
     "name": "stdout",
     "output_type": "stream",
     "text": [
      "tensor([[ 20.,  30., 400., 500.],\n",
      "        [ 20.,  30., 400., 500.],\n",
      "        [ 20.,  30., 400., 500.],\n",
      "        ...,\n",
      "        [ 20.,  30., 400., 500.],\n",
      "        [ 20.,  30., 400., 500.],\n",
      "        [ 20.,  30., 400., 500.]])\n",
      "[[ 0.5855727   2.3091455   0.7415673   1.647276  ]\n",
      " [ 0.49718437  2.3091455   0.7415673   1.647276  ]\n",
      " [ 0.40879607  2.3091455   0.7415673   1.647276  ]\n",
      " ...\n",
      " [-2.50802    -5.292254    0.7415677   1.6472763 ]\n",
      " [-2.5964084  -5.292254    0.7415677   1.6472763 ]\n",
      " [-2.6847968  -5.292254    0.7415677   1.6472763 ]]\n"
     ]
    }
   ],
   "source": [
    "#for each anchor box, finding the ground truth box which has max_iou\n",
    "max_iou_bbox = bbox[argmax_ious]\n",
    "print(max_iou_bbox)\n",
    "#This should be of the shape len(valid_anchor_boxes, 4)\n",
    "\n",
    "#Location of the anchor boxes wrt the ground truth box\n",
    "height = valid_anchor_boxes[:, 2] - valid_anchor_boxes[:, 0]\n",
    "width = valid_anchor_boxes[:, 3] - valid_anchor_boxes[:, 1]\n",
    "ctr_y = valid_anchor_boxes[:, 0] + 0.5 * height\n",
    "ctr_x = valid_anchor_boxes[:, 1] + 0.5 * width\n",
    "\n",
    "base_height = (max_iou_bbox[:, 2] - max_iou_bbox[:, 0]).cpu().numpy()\n",
    "base_width = (max_iou_bbox[:, 3] - max_iou_bbox[:, 1]).cpu().numpy()\n",
    "base_ctr_y = max_iou_bbox[:, 0].cpu().numpy() + 0.5 * base_height\n",
    "base_ctr_x = max_iou_bbox[:, 1].cpu().numpy() + 0.5 * base_width\n",
    "\n",
    "eps = np.finfo(height.dtype).eps\n",
    "height = np.maximum(height, eps)\n",
    "width = np.maximum(width, eps)\n",
    "\n",
    "dy = (base_ctr_y - ctr_y) / height\n",
    "dx = (base_ctr_x - ctr_x) / width\n",
    "dh = np.log(base_height / height)\n",
    "dw = np.log(base_width / width)\n",
    "\n",
    "anchor_locs = np.vstack((dy, dx, dh, dw)).transpose()\n",
    "print(anchor_locs)"
   ]
  },
  {
   "cell_type": "code",
   "execution_count": 28,
   "metadata": {},
   "outputs": [
    {
     "name": "stdout",
     "output_type": "stream",
     "text": [
      "(22500, 4)\n",
      "(22500,)\n"
     ]
    }
   ],
   "source": [
    "#Mapping the anchor locations and the labels to the original anchor boxes\n",
    "#This is to all the anchor boxes, the invalid ones are marked\n",
    "anchor_labels = np.empty((len(anchors),), dtype=bbox_labels.dtype)\n",
    "anchor_labels.fill(-1)\n",
    "anchor_labels[inside_indexes] = bbox_labels\n",
    "\n",
    "anchor_locations = np.empty((len(anchors),) + anchors.shape[1:], dtype=anchor_locs.dtype)\n",
    "anchor_locations.fill(0)\n",
    "anchor_locations[inside_indexes, :] = anchor_locs\n",
    "\n",
    "print(anchor_locations.shape)\n",
    "print(anchor_labels.shape)\n",
    "\n",
    "#INPUTS TO THE RPN NETWORK ARE OBTAINED FINALLY!!!"
   ]
  },
  {
   "cell_type": "code",
   "execution_count": null,
   "metadata": {},
   "outputs": [],
   "source": []
  },
  {
   "cell_type": "code",
   "execution_count": 34,
   "metadata": {},
   "outputs": [
    {
     "name": "stdout",
     "output_type": "stream",
     "text": [
      "torch.Size([1, 18, 50, 50]) torch.Size([1, 36, 50, 50])\n"
     ]
    }
   ],
   "source": [
    "#Faster RCNN uses deep learning to obtain the region proposals\n",
    "#Using n=3 for the conv network as noted in the original network and keeping the number of channels same\n",
    "\n",
    "mid_channels = 512\n",
    "in_channels = 512  # depends on the output feature map. in vgg 16 it is equal to 512\n",
    "n_anchor = len(ratios) * len(anchor_scales)\n",
    "conv_rpn = nn.Conv2d(in_channels, mid_channels, 3, 1, 1)\n",
    "reg_layer = nn.Conv2d(mid_channels, n_anchor * 4, 1, 1, 0)\n",
    "cls_layer = nn.Conv2d(mid_channels, n_anchor * 2, 1, 1, 0)\n",
    "\n",
    "#These layers were intialized with zero mean and 0.01 standard deviation as per the paper\n",
    "#Convolutional Layer\n",
    "conv_rpn.weight.data.normal_(0, 0.01)\n",
    "conv_rpn.bias.data.zero_()\n",
    "#regression layer\n",
    "reg_layer.weight.data.normal_(0, 0.01)\n",
    "reg_layer.bias.data.zero_()\n",
    "#Classification layer\n",
    "cls_layer.weight.data.normal_(0, 0.01)\n",
    "cls_layer.bias.data.zero_()\n",
    "\n",
    "outputs_rpn = conv_rpn(out_map)\n",
    "pred_anchor_locs = reg_layer(outputs_rpn)\n",
    "pred_cls_scores = cls_layer(outputs_rpn)\n",
    "\n",
    "print(pred_cls_scores.shape, pred_anchor_locs.shape)\n"
   ]
  },
  {
   "cell_type": "code",
   "execution_count": 35,
   "metadata": {},
   "outputs": [
    {
     "name": "stdout",
     "output_type": "stream",
     "text": [
      "torch.Size([1, 22500, 4])\n",
      "torch.Size([1, 50, 50, 18])\n",
      "torch.Size([1, 22500])\n",
      "torch.Size([1, 22500, 2])\n"
     ]
    }
   ],
   "source": [
    "pred_anchor_locs = pred_anchor_locs.permute(0, 2, 3, 1).contiguous().view(1, -1, 4)\n",
    "print(pred_anchor_locs.shape)\n",
    "\n",
    "pred_cls_scores = pred_cls_scores.permute(0, 2, 3, 1).contiguous()\n",
    "print(pred_cls_scores.shape)\n",
    "\n",
    "objectness_score = pred_cls_scores.view(1, 50, 50, 9, 2)[:, :, :, :, 1].contiguous().view(1, -1)\n",
    "print(objectness_score.shape)\n",
    "\n",
    "pred_cls_scores = pred_cls_scores.view(1, -1, 2)\n",
    "print(pred_cls_scores.shape)\n"
   ]
  },
  {
   "cell_type": "code",
   "execution_count": null,
   "metadata": {},
   "outputs": [],
   "source": []
  },
  {
   "cell_type": "code",
   "execution_count": 36,
   "metadata": {},
   "outputs": [
    {
     "name": "stdout",
     "output_type": "stream",
     "text": [
      "[[ -34.0528    -80.697914   56.19092    97.80956 ]\n",
      " [ -78.48703  -162.73393   102.09204   190.97133 ]\n",
      " [-180.16808  -337.2321    183.98601   357.8995  ]\n",
      " ...\n",
      " [ 702.1114    742.87775   887.80695   836.73004 ]\n",
      " [ 607.1709    700.6685    973.23914   883.0776  ]\n",
      " [ 442.34058   600.0958   1159.5668    962.56335 ]]\n"
     ]
    }
   ],
   "source": [
    "#The RoI network\n",
    "#First applying the NMS algorithm to reduce the number of redundant proposals\n",
    "#minimum size here is the minimum height of the object required to create a proposal\n",
    "\n",
    "nms_thresh = 0.7\n",
    "n_train_pre_nms = 12000\n",
    "n_train_post_nms = 2000\n",
    "n_test_pre_nms = 6000\n",
    "n_test_post_nms = 300\n",
    "min_size = 16\n",
    "\n",
    "#Doing the reverse transformation from the absolute point coordinates to the anchors\n",
    "anc_height = anchors[:, 2] - anchors[:, 0]\n",
    "anc_width = anchors[:, 3] - anchors[:, 1]\n",
    "anc_ctr_y = anchors[:, 0] + 0.5 * anc_height\n",
    "anc_ctr_x = anchors[:, 1] + 0.5 * anc_width\n",
    "\n",
    "#Transformations are easier using numpy arrays\n",
    "pred_anchor_locs_numpy = pred_anchor_locs[0].data.numpy()\n",
    "objectness_score_numpy = objectness_score[0].data.numpy()\n",
    "\n",
    "dy = pred_anchor_locs_numpy[:, 0::4]\n",
    "dx = pred_anchor_locs_numpy[:, 1::4]\n",
    "dh = pred_anchor_locs_numpy[:, 2::4]\n",
    "dw = pred_anchor_locs_numpy[:, 3::4]\n",
    "\n",
    "#Decoding the predictions by unparameterizing them\n",
    "ctr_y = dy * anc_height[:, np.newaxis] + anc_ctr_y[:, np.newaxis]\n",
    "ctr_x = dx * anc_width[:, np.newaxis] + anc_ctr_x[:, np.newaxis]\n",
    "h = np.exp(dh) * anc_height[:, np.newaxis]\n",
    "w = np.exp(dw) * anc_width[:, np.newaxis]\n",
    "\n",
    "#Now reconverting them back to the point coordinates format\n",
    "roi = np.zeros(pred_anchor_locs_numpy.shape, dtype=anchor_locs.dtype)\n",
    "roi[:, 0::4] = ctr_y - 0.5 * h\n",
    "roi[:, 1::4] = ctr_x - 0.5 * w\n",
    "roi[:, 2::4] = ctr_y + 0.5 * h\n",
    "roi[:, 3::4] = ctr_x + 0.5 * w\n",
    "\n",
    "print(roi)"
   ]
  },
  {
   "cell_type": "code",
   "execution_count": 37,
   "metadata": {},
   "outputs": [
    {
     "name": "stdout",
     "output_type": "stream",
     "text": [
      "[[  0.        0.       56.19092  97.80956]\n",
      " [  0.        0.      102.09204 190.97133]\n",
      " [  0.        0.      183.98601 357.8995 ]\n",
      " ...\n",
      " [702.1114  742.87775 800.      800.     ]\n",
      " [607.1709  700.6685  800.      800.     ]\n",
      " [442.34058 600.0958  800.      800.     ]]\n"
     ]
    }
   ],
   "source": [
    "#Clipping the predicted boxes to the original image\n",
    "img_size = (800, 800)  # Image size\n",
    "roi[:, slice(0, 4, 2)] = np.clip(roi[:, slice(0, 4, 2)], 0, img_size[0])\n",
    "roi[:, slice(1, 4, 2)] = np.clip(roi[:, slice(1, 4, 2)], 0, img_size[1])\n",
    "print(roi)"
   ]
  },
  {
   "cell_type": "code",
   "execution_count": 38,
   "metadata": {},
   "outputs": [
    {
     "name": "stdout",
     "output_type": "stream",
     "text": [
      "(22500,)\n",
      "(22500, 4)\n"
     ]
    }
   ],
   "source": [
    "#Removing the anchor boxes which do not satisfy the threshold criteria\n",
    "hs = roi[:, 2] - roi[:, 0]\n",
    "ws = roi[:, 3] - roi[:, 1]\n",
    "keep = np.where((hs >= min_size) & (ws >= min_size))[0]\n",
    "roi = roi[keep, :]\n",
    "scores = objectness_score_numpy[keep]\n",
    "print(scores.shape)\n",
    "print(roi.shape)"
   ]
  },
  {
   "cell_type": "code",
   "execution_count": 39,
   "metadata": {},
   "outputs": [
    {
     "name": "stdout",
     "output_type": "stream",
     "text": [
      "[21607   461     6 ...   868   877   886]\n",
      "(12000, 4)\n"
     ]
    }
   ],
   "source": [
    "#Sorting the pairs from the highest to lowest\n",
    "ordered_scores = scores.ravel().argsort()[::-1]\n",
    "print(ordered_scores)\n",
    "\n",
    "#Taking the top pre_nms_topN\n",
    "ordered_scores = ordered_scores[:n_train_pre_nms]\n",
    "roi = roi[ordered_scores, :]\n",
    "print(roi.shape)"
   ]
  },
  {
   "cell_type": "code",
   "execution_count": 40,
   "metadata": {},
   "outputs": [],
   "source": [
    "#The NMS algorithm\n",
    "y1 = roi[:, 0]\n",
    "x1 = roi[:, 1]\n",
    "y2 = roi[:, 2]\n",
    "x2 = roi[:, 3]\n",
    "\n",
    "areas = (x2 - x1 + 1) * (y2 - y1 + 1)\n",
    "\n",
    "order = ordered_scores.argsort()[::-1]\n",
    "keep = []\n",
    "\n",
    "while order.size > 0:\n",
    "    i = order[0]\n",
    "    keep.append(i)\n",
    "    xx1 = np.maximum(x1[i], x1[order[1:]])\n",
    "    yy1 = np.maximum(y1[i], y1[order[1:]])\n",
    "    xx2 = np.minimum(x2[i], x2[order[1:]])\n",
    "    yy2 = np.minimum(y2[i], y2[order[1:]])\n",
    "    w = np.maximum(0.0, xx2 - xx1 + 1)\n",
    "    h = np.maximum(0.0, yy2 - yy1 + 1)\n",
    "    inter = w * h\n",
    "    ovr = inter / (areas[i] + areas[order[1:]] - inter)\n",
    "    inds = np.where(ovr <= nms_thresh)[0]\n",
    "    order = order[inds + 1]\n",
    "\n",
    "#Check the training and testing variables\n",
    "keep = keep[:n_train_post_nms]\n",
    "roi = roi[keep]\n",
    "\n",
    "#Final region proposals to be used as inputs to the fast_rcnn !!!"
   ]
  },
  {
   "cell_type": "code",
   "execution_count": null,
   "metadata": {},
   "outputs": [],
   "source": []
  },
  {
   "cell_type": "code",
   "execution_count": 41,
   "metadata": {},
   "outputs": [
    {
     "name": "stdout",
     "output_type": "stream",
     "text": [
      "(2000, 2)\n"
     ]
    }
   ],
   "source": [
    "#Most of this is redundant and analogous to the one used for anchor boxes\n",
    "#defining the parameters to the detection network\n",
    "n_samples = 128\n",
    "pos_ratio = 0.25\n",
    "pos_iou_thresh = 0.5\n",
    "neg_iou_thresh_hi = 0.5\n",
    "neg_iou_thresh_lo = 0.0\n",
    "\n",
    "#Find the IoU of ground truth objects with the region proposals, copy code of anchor boxes\n",
    "ious = np.empty((len(roi), 2), dtype=np.float32)\n",
    "ious.fill(0)\n",
    "for num1, i in enumerate(roi):\n",
    "    ya1, xa1, ya2, xa2 = i\n",
    "    anchor_area = (ya2 - ya1) * (xa2 - xa1)\n",
    "    for num2, j in enumerate(bbox):\n",
    "        yb1, xb1, yb2, xb2 = j\n",
    "        box_area = (yb2 - yb1) * (xb2 - xb1)\n",
    "        inter_x1 = max([xb1, xa1])\n",
    "        inter_y1 = max([yb1, ya1])\n",
    "        inter_x2 = min([xb2, xa2])\n",
    "        inter_y2 = min([yb2, ya2])\n",
    "        if (inter_x1 < inter_x2) and (inter_y1 < inter_y2):\n",
    "            iter_area = (inter_y2 - inter_y1) * (inter_x2 - inter_x1)\n",
    "            iou = iter_area / (anchor_area + box_area - iter_area)\n",
    "        else:\n",
    "            iou = 0.\n",
    "        ious[num1, num2] = iou\n",
    "print(ious.shape)"
   ]
  },
  {
   "cell_type": "code",
   "execution_count": 42,
   "metadata": {},
   "outputs": [
    {
     "name": "stdout",
     "output_type": "stream",
     "text": [
      "[0 0 0 ... 0 0 0]\n",
      "[0.         0.         0.         ... 0.03279276 0.09336255 0.        ]\n",
      "tensor([6, 6, 6,  ..., 6, 6, 6])\n"
     ]
    }
   ],
   "source": [
    "#Find the ground truth proposal which has the max IoU for each proposal, and assign the label to it\n",
    "gt_assignment = ious.argmax(axis=1)\n",
    "max_ious = ious.max(axis=1)\n",
    "print(gt_assignment)\n",
    "print(max_ious)\n",
    "\n",
    "gt_roi_label = labels[gt_assignment]\n",
    "print(gt_roi_label)"
   ]
  },
  {
   "cell_type": "code",
   "execution_count": 43,
   "metadata": {},
   "outputs": [
    {
     "name": "stdout",
     "output_type": "stream",
     "text": [
      "18\n",
      "[1901 1501  839 1632  844 1373 1148 1251 1783 1659 1275 1062 1779 1535\n",
      " 1741 1492 1491 1409]\n",
      "238\n",
      "[ 734 1712 1975 1147  773 1681 1908  638 1292 1102 1058  676 1810 1328\n",
      "  786 1224  994 1804  187 1939  892  720 1933  927 1836 1084  386  945\n",
      " 1173  862 1862 1932  866 1385   78 1007  692   31 1584 1846  635  978\n",
      " 1520  883  890  886  832 1142  614 1511  286  733 1566 1896   35   66\n",
      "  482   73 1909  836  229  908 1154  319  825 1949  668  268 1288 1634\n",
      " 1952  742 1919 1912 1196 1544 1452 1341 1803  748 1841  452 1972  986\n",
      "  133  897  813  242  544  364  407 1718 1315 1192  215  487 1702 1046\n",
      "  338 1571 1904 1664 1516 1679  601 1745  409 1290 1891  449 1252  750\n",
      " 1653  685 1066   83 1186 1451 1766 1699 1019 1583 1554 1479  316 1657\n",
      " 1938  900 1958 1781  817 1343 1014 1000 1140  171 1011  303  585 1255\n",
      "  254  656  658 1320 1393 1221 1171 1139  983 1993 1950  117 1788  489\n",
      " 1167  233 1426  390 1588  593  299  941  341  736  230 1240 1792  625\n",
      "  578 1179 1400  223 1777 1964 1707  135  616  860  754 1680 1262  141\n",
      "  354  904  248 1839  345  753  399  278  102   84  307 1242   22 1967\n",
      " 1366  950 1342  916 1264 1420 1351 1386 1805 1432 1561 1643  966  190\n",
      "  100 1124  974  285  483 1907  239 1032 1552 1067  416   63 1951   95\n",
      "  792 1001 1489   92 1724  479 1819  115 1728 1945 1469 1762  168 1953]\n"
     ]
    }
   ],
   "source": [
    "#Select the foreground and background RoI with the threshold, and sample till the max value\n",
    "pos_roi_per_image = int(n_samples * pos_ratio)\n",
    "pos_index = np.where(max_ious >= pos_iou_thresh)[0]\n",
    "pos_roi_per_this_image = int(min(pos_roi_per_image, pos_index.size))\n",
    "if pos_index.size > 0:\n",
    "    pos_index = np.random.choice(pos_index, size=pos_roi_per_this_image, replace=False)\n",
    "print(pos_roi_per_this_image)\n",
    "print(pos_index)\n",
    "\n",
    "neg_index = np.where((max_ious < neg_iou_thresh_hi) &\n",
    "                     (max_ious >= neg_iou_thresh_lo))[0]\n",
    "neg_roi_per_this_image = n_sample - pos_roi_per_this_image\n",
    "neg_roi_per_this_image = int(min(neg_roi_per_this_image, neg_index.size))\n",
    "\n",
    "if neg_index.size > 0:\n",
    "    neg_index = np.random.choice(neg_index, size=neg_roi_per_this_image, replace=False)\n",
    "print(neg_roi_per_this_image)\n",
    "print(neg_index)"
   ]
  },
  {
   "cell_type": "code",
   "execution_count": 44,
   "metadata": {},
   "outputs": [
    {
     "name": "stdout",
     "output_type": "stream",
     "text": [
      "(256, 4)\n",
      "torch.Size([256, 4])\n",
      "[[ 0.23342858  0.09424514  0.28303862  0.05253953]\n",
      " [ 0.19494893 -0.06281741  0.22914681 -0.25440148]\n",
      " [-0.11636309  0.06441679 -0.5916455   0.10253166]\n",
      " ...\n",
      " [-2.603347    1.419128    0.7366678   1.6449996 ]\n",
      " [-5.2580996  -3.1489475   1.4121658   1.1649048 ]\n",
      " [-1.381585    1.3034242   0.19216321  1.16269   ]]\n"
     ]
    }
   ],
   "source": [
    "#Gather the indices, the respective labels and the RoI\n",
    "keep_index = np.append(pos_index, neg_index)\n",
    "gt_roi_labels = gt_roi_label[keep_index]\n",
    "gt_roi_labels[pos_roi_per_this_image:] = 0  # negative labels --> 0\n",
    "sample_roi = roi[keep_index]\n",
    "print(sample_roi.shape)\n",
    "\n",
    "#Pick the ground truth objects for the RoI and parameterize like anchor boxes\n",
    "bbox_for_sampled_roi = bbox[gt_assignment[keep_index]]\n",
    "print(bbox_for_sampled_roi.shape)\n",
    "\n",
    "height = sample_roi[:, 2] - sample_roi[:, 0]\n",
    "width = sample_roi[:, 3] - sample_roi[:, 1]\n",
    "ctr_y = sample_roi[:, 0] + 0.5 * height\n",
    "ctr_x = sample_roi[:, 1] + 0.5 * width\n",
    "base_height = bbox_for_sampled_roi[:, 2] - bbox_for_sampled_roi[:, 0]\n",
    "base_width = bbox_for_sampled_roi[:, 3] - bbox_for_sampled_roi[:, 1]\n",
    "base_ctr_y = (bbox_for_sampled_roi[:, 0] + 0.5 * base_height).cpu().numpy()\n",
    "base_ctr_x = (bbox_for_sampled_roi[:, 1] + 0.5 * base_width).cpu().numpy()\n",
    "\n",
    "eps = np.finfo(height.dtype).eps\n",
    "height = np.maximum(height, eps)\n",
    "width = np.maximum(width, eps)\n",
    "dy = (base_ctr_y - ctr_y) / height\n",
    "dx = (base_ctr_x - ctr_x) / width\n",
    "dh = np.log(base_height.cpu().numpy() / height)\n",
    "dw = np.log(base_width.cpu().numpy() / width)\n",
    "gt_roi_locs = np.vstack((dy, dx, dh, dw)).transpose()\n",
    "print(gt_roi_locs)\n"
   ]
  },
  {
   "cell_type": "code",
   "execution_count": null,
   "metadata": {},
   "outputs": [],
   "source": []
  },
  {
   "cell_type": "code",
   "execution_count": 45,
   "metadata": {},
   "outputs": [
    {
     "name": "stdout",
     "output_type": "stream",
     "text": [
      "torch.Size([256, 4]) torch.Size([256])\n",
      "torch.Size([256, 5])\n"
     ]
    }
   ],
   "source": [
    "#Fast RNN end network for classification\n",
    "#RoI indices is for the image index, since there is only one image, its a vector of 256 zeros for all RoIs\n",
    "rois = torch.from_numpy(sample_roi).float()\n",
    "roi_indices = 0 * np.ones((len(rois),), dtype=np.int32)\n",
    "roi_indices = torch.from_numpy(roi_indices).float()\n",
    "print(rois.shape, roi_indices.shape)\n",
    "\n",
    "#Concatinating and rearranging\n",
    "indices_and_rois = torch.cat([roi_indices[:, None], rois], dim=1)\n",
    "xy_indices_and_rois = indices_and_rois[:, [0, 2, 1, 4, 3]]\n",
    "indices_and_rois = xy_indices_and_rois.contiguous()\n",
    "print(xy_indices_and_rois.shape)"
   ]
  },
  {
   "cell_type": "code",
   "execution_count": 47,
   "metadata": {},
   "outputs": [
    {
     "name": "stdout",
     "output_type": "stream",
     "text": [
      "torch.Size([256, 512, 7, 7])\n",
      "torch.Size([256, 25088])\n"
     ]
    }
   ],
   "source": [
    "#RoI pooling layer, max pool of size 7x7\n",
    "size = 7\n",
    "adaptive_max_pool = nn.AdaptiveMaxPool2d(size)\n",
    "output = []\n",
    "rois = indices_and_rois.data.float()\n",
    "rois[:, 1:].mul_(1 / 16.0)  # Subsampling ratio skipping the index\n",
    "rois = rois.long()\n",
    "num_rois = rois.size(0)\n",
    "for i in range(num_rois):\n",
    "    roi = rois[i]\n",
    "    im_idx = roi[0]\n",
    "    im = out_map.narrow(0, im_idx, 1)[..., roi[2]:(roi[4] + 1), roi[1]:(roi[3] + 1)]\n",
    "    output.append(adaptive_max_pool(im))\n",
    "\n",
    "output = torch.cat(output, 0)\n",
    "print(output.size())\n",
    "\n",
    "#Reshape the output according to the dimensions required in the feed forward layer\n",
    "k = output.view(output.size(0), -1)\n",
    "print(k.shape)"
   ]
  },
  {
   "cell_type": "code",
   "execution_count": 49,
   "metadata": {},
   "outputs": [
    {
     "name": "stdout",
     "output_type": "stream",
     "text": [
      "torch.Size([256, 84]) torch.Size([256, 21])\n"
     ]
    }
   ],
   "source": [
    "#This is the input to a classifier layer, which branches out as another classifier/regression layer\n",
    "roi_head_classifier = nn.Sequential(*[nn.Linear(25088, 4096), nn.Linear(4096, 4096)])\n",
    "cls_loc = nn.Linear(4096, 21 * 4)\n",
    "cls_loc.weight.data.normal_(0, 0.01)\n",
    "cls_loc.bias.data.zero_()\n",
    "score = nn.Linear(4096, 21)  # (VOC 20 classes + 1 background)\n",
    "\n",
    "#Passing the output of the RoI pooling layer to the network defined above\n",
    "k = roi_head_classifier(k)\n",
    "roi_cls_loc = cls_loc(k)\n",
    "roi_cls_score = score(k)\n",
    "print(roi_cls_loc.shape, roi_cls_score.shape)"
   ]
  },
  {
   "cell_type": "code",
   "execution_count": 51,
   "metadata": {},
   "outputs": [
    {
     "name": "stdout",
     "output_type": "stream",
     "text": [
      "torch.Size([1, 22500, 4])\n",
      "torch.Size([1, 22500, 2])\n",
      "(22500, 4)\n",
      "(22500,)\n",
      "torch.Size([22500, 4]) torch.Size([22500, 2]) torch.Size([22500, 4]) torch.Size([22500])\n"
     ]
    }
   ],
   "source": [
    "#Computing the different types of losses\n",
    "print(pred_anchor_locs.shape)\n",
    "print(pred_cls_scores.shape)\n",
    "print(anchor_locations.shape)\n",
    "print(anchor_labels.shape)\n",
    "\n",
    "#Rearranging to remove errors and unnecessary dimensions\n",
    "rpn_loc = pred_anchor_locs[0]\n",
    "rpn_score = pred_cls_scores[0]\n",
    "gt_rpn_loc = torch.from_numpy(anchor_locations)\n",
    "gt_rpn_score = torch.from_numpy(anchor_labels)\n",
    "print(rpn_loc.shape, rpn_score.shape, gt_rpn_loc.shape, gt_rpn_score.shape)"
   ]
  },
  {
   "cell_type": "code",
   "execution_count": 54,
   "metadata": {},
   "outputs": [
    {
     "name": "stdout",
     "output_type": "stream",
     "text": [
      "tensor(0.6946, grad_fn=<NllLossBackward>)\n",
      "torch.Size([22500, 4])\n",
      "torch.Size([18, 4]) torch.Size([18, 4])\n",
      "tensor(1.1147, grad_fn=<SumBackward0>)\n",
      "tensor(1.0042, grad_fn=<AddBackward0>)\n"
     ]
    }
   ],
   "source": [
    "import torch.nn.functional as F\n",
    "\n",
    "rpn_cls_loss = F.cross_entropy(rpn_score, gt_rpn_score.long(), ignore_index=-1)\n",
    "print(rpn_cls_loss)\n",
    "\n",
    "# RPN LOSS\n",
    "\n",
    "#The regression loss is only applicable to bounding boxes with positive labels\n",
    "pos = gt_rpn_score > 0\n",
    "mask = pos.unsqueeze(1).expand_as(rpn_loc)\n",
    "print(mask.shape)\n",
    "mask_loc_preds = rpn_loc[mask].view(-1, 4)\n",
    "mask_loc_targets = gt_rpn_loc[mask].view(-1, 4)\n",
    "print(mask_loc_preds.shape, mask_loc_preds.shape)\n",
    "#Using smooth L1 loss for regression, with sigma =1,\n",
    "x = torch.abs(mask_loc_targets - mask_loc_preds)\n",
    "rpn_loc_loss = ((x < 1).float() * 0.5 * x**2) + ((x >= 1).float() * (x-0.5))\n",
    "print(rpn_loc_loss.sum())\n",
    "\n",
    "#Lambda is a hyperparameter which is used to calculate the total rpn loss\n",
    "rpn_lambda = 5\n",
    "N_reg = (gt_rpn_score > 0).float().sum()\n",
    "rpn_loc_loss = rpn_loc_loss.sum() / N_reg\n",
    "rpn_loss = rpn_cls_loss + (rpn_lambda * rpn_loc_loss)\n",
    "print(rpn_loss)"
   ]
  },
  {
   "cell_type": "code",
   "execution_count": 55,
   "metadata": {},
   "outputs": [
    {
     "name": "stdout",
     "output_type": "stream",
     "text": [
      "torch.Size([256, 84])\n",
      "torch.Size([256, 21])\n",
      "(256, 4)\n",
      "torch.Size([256])\n",
      "torch.Size([256, 4]) torch.Size([256])\n",
      "tensor(3.0175, grad_fn=<NllLossBackward>)\n",
      "torch.Size([256, 21, 4])\n",
      "torch.Size([256, 4])\n",
      "tensor(900.5510, grad_fn=<SumBackward0>)\n",
      "tensor(503.3236, grad_fn=<AddBackward0>)\n",
      "tensor(504.3279, grad_fn=<AddBackward0>)\n"
     ]
    }
   ],
   "source": [
    "#Fast RCNN Loss\n",
    "\n",
    "print(roi_cls_loc.shape)\n",
    "print(roi_cls_score.shape)\n",
    "print(gt_roi_locs.shape)\n",
    "print(gt_roi_labels.shape)\n",
    "\n",
    "gt_roi_loc = torch.from_numpy(gt_roi_locs)\n",
    "gt_roi_label = torch.from_numpy(np.float32(gt_roi_labels)).long()\n",
    "print(gt_roi_loc.shape, gt_roi_label.shape)\n",
    "\n",
    "#Classification loss\n",
    "roi_cls_loss = F.cross_entropy(roi_cls_score, gt_roi_label, ignore_index=-1)\n",
    "print(roi_cls_loss)\n",
    "\n",
    "#Regression loss\n",
    "n_sample = roi_cls_loc.shape[0]\n",
    "roi_loc = roi_cls_loc.view(n_sample, -1, 4)\n",
    "print(roi_loc.shape)\n",
    "roi_loc = roi_loc[torch.arange(0, n_sample).long(), gt_roi_label]\n",
    "print(roi_loc.shape)\n",
    "x_roi = torch.abs(gt_roi_loc - roi_loc)\n",
    "roi_loc_loss = ((x_roi < 1).float() * 0.5 * x_roi ** 2) + ((x_roi >= 1).float() * (x_roi - 0.5))\n",
    "print(roi_loc_loss.sum())\n",
    "\n",
    "#Total loss\n",
    "roi_lambda = 10.\n",
    "N_reg_roi = (gt_rpn_score > 0).float().sum()\n",
    "roi_loc_loss = roi_loc_loss.sum() / N_reg_roi\n",
    "roi_loss = roi_cls_loss + (roi_lambda * roi_loc_loss)\n",
    "print(roi_loss)\n",
    "\n",
    "total_loss = rpn_loss + roi_loss\n",
    "print(total_loss)"
   ]
  },
  {
   "cell_type": "code",
   "execution_count": null,
   "metadata": {},
   "outputs": [],
   "source": []
  }
 ],
 "metadata": {
  "kernelspec": {
   "display_name": "Python 3",
   "language": "python",
   "name": "python3"
  },
  "language_info": {
   "codemirror_mode": {
    "name": "ipython",
    "version": 3
   },
   "file_extension": ".py",
   "mimetype": "text/x-python",
   "name": "python",
   "nbconvert_exporter": "python",
   "pygments_lexer": "ipython3",
   "version": "3.7.5"
  }
 },
 "nbformat": 4,
 "nbformat_minor": 2
}
